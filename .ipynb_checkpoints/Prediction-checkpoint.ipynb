{
 "cells": [
  {
   "cell_type": "markdown",
   "metadata": {},
   "source": [
    "## Prediction model"
   ]
  },
  {
   "cell_type": "code",
   "execution_count": 1,
   "metadata": {},
   "outputs": [],
   "source": [
    "import numpy as np\n",
    "import pandas as pd\n",
    "import matplotlib.pyplot as plt"
   ]
  },
  {
   "cell_type": "code",
   "execution_count": 2,
   "metadata": {},
   "outputs": [],
   "source": [
    "salary_df = pd.read_csv(\"dataset_for_prediction.csv\")\n",
    "#salary_df[(salary_df[\"Year\"]==2000) & (salary_df[\"Tm\"]==\"SEA\")]"
   ]
  },
  {
   "cell_type": "code",
   "execution_count": 3,
   "metadata": {},
   "outputs": [],
   "source": [
    "teams = salary_df[[\"Tm\", \"Year\", \"Salaries\"]]\n",
    "teams = teams.groupby([\"Tm\", \"Year\"]).sum()\n",
    "teams.rename(columns={'Salaries':'Teamcap'}, inplace=True)\n",
    "dataset = pd.merge(left=salary_df, right=teams, left_on=[\"Tm\", \"Year\"], right_on=[\"Tm\", \"Year\"])\n",
    "dataset['Wage%'] = round(dataset['Salaries'] / dataset['Teamcap'], 2)"
   ]
  },
  {
   "cell_type": "markdown",
   "metadata": {},
   "source": [
    "#### Creating dummy variables ####"
   ]
  },
  {
   "cell_type": "code",
   "execution_count": 4,
   "metadata": {},
   "outputs": [
    {
     "name": "stdout",
     "output_type": "stream",
     "text": [
      "       Unnamed: 0  Year   Age     G      MP   PER    TS%   3PAr    FTr  ORB%  \\\n",
      "0               0  2000  24.0  82.0  3070.0  20.6  0.570  0.288  0.282   3.2   \n",
      "1               1  2000  23.0  27.0   361.0   4.3  0.310  0.147  0.042   1.6   \n",
      "2              18  2000  30.0  81.0  2899.0  21.1  0.551  0.077  0.380   2.8   \n",
      "3              61  2000  32.0  80.0  2129.0  12.7  0.550  0.004  0.563  12.8   \n",
      "4             108  2000  27.0  81.0  2909.0  17.8  0.534  0.162  0.194   4.3   \n",
      "...           ...   ...   ...   ...     ...   ...    ...    ...    ...   ...   \n",
      "10216       10073  2019  26.0  36.0  1147.0  17.6  0.519  0.367  0.240   2.1   \n",
      "10217       10108  2019  23.0  10.0    47.0   8.1  0.500  0.333  0.000   4.8   \n",
      "10218       10124  2019  22.0  74.0  1838.0  21.9  0.630  0.024  0.416  11.5   \n",
      "10219       10180  2019  22.0  74.0  2119.0  18.0  0.567  0.251  0.258   5.4   \n",
      "10220       10212  2019  30.0  81.0  2489.0  16.2  0.569  0.174  0.161   8.7   \n",
      "\n",
      "       ...  Teamcap_219074554.0  Teamcap_220621343.0  Teamcap_221800877.0  \\\n",
      "0      ...                    0                    0                    0   \n",
      "1      ...                    0                    0                    0   \n",
      "2      ...                    0                    0                    0   \n",
      "3      ...                    0                    0                    0   \n",
      "4      ...                    0                    0                    0   \n",
      "...    ...                  ...                  ...                  ...   \n",
      "10216  ...                    0                    0                    0   \n",
      "10217  ...                    0                    0                    0   \n",
      "10218  ...                    0                    0                    0   \n",
      "10219  ...                    0                    0                    0   \n",
      "10220  ...                    0                    0                    0   \n",
      "\n",
      "       Teamcap_222758625.0  Teamcap_281957908.0  Teamcap_283012194.0  \\\n",
      "0                        0                    0                    0   \n",
      "1                        0                    0                    0   \n",
      "2                        0                    0                    0   \n",
      "3                        0                    0                    0   \n",
      "4                        0                    0                    0   \n",
      "...                    ...                  ...                  ...   \n",
      "10216                    0                    0                    0   \n",
      "10217                    0                    0                    0   \n",
      "10218                    0                    0                    0   \n",
      "10219                    0                    0                    0   \n",
      "10220                    0                    0                    0   \n",
      "\n",
      "       Teamcap_296700053.0  Teamcap_314409879.0  Teamcap_336266875.0  \\\n",
      "0                        0                    0                    0   \n",
      "1                        0                    0                    0   \n",
      "2                        0                    0                    0   \n",
      "3                        0                    0                    0   \n",
      "4                        0                    0                    0   \n",
      "...                    ...                  ...                  ...   \n",
      "10216                    0                    0                    0   \n",
      "10217                    0                    0                    0   \n",
      "10218                    0                    0                    0   \n",
      "10219                    0                    0                    0   \n",
      "10220                    0                    0                    0   \n",
      "\n",
      "       Teamcap_570240584.0  \n",
      "0                        0  \n",
      "1                        0  \n",
      "2                        0  \n",
      "3                        0  \n",
      "4                        0  \n",
      "...                    ...  \n",
      "10216                    0  \n",
      "10217                    0  \n",
      "10218                    0  \n",
      "10219                    0  \n",
      "10220                    0  \n",
      "\n",
      "[10221 rows x 708 columns]\n"
     ]
    }
   ],
   "source": [
    "\n",
    "data_dum = pd.get_dummies(columns=[\"Pos\", \"Tm\", \"Teamcap\"], data=dataset)\n",
    "prediction_data = data_dum.drop(columns = [\"Player\"])\n",
    "print(prediction_data)"
   ]
  },
  {
   "cell_type": "markdown",
   "metadata": {},
   "source": [
    "#### Spliting data for testing and using StandardScaler ####"
   ]
  },
  {
   "cell_type": "code",
   "execution_count": 5,
   "metadata": {},
   "outputs": [],
   "source": [
    "from sklearn.model_selection import train_test_split\n",
    "X = prediction_data.copy().drop(columns=[\"Wage%\", \"Salaries\"])\n",
    "y = prediction_data[\"Wage%\"]\n",
    "\n",
    "X_train, X_test, y_train, y_test =  train_test_split(X, y, test_size=0.33, random_state=42)"
   ]
  },
  {
   "cell_type": "code",
   "execution_count": 6,
   "metadata": {},
   "outputs": [],
   "source": [
    "from sklearn.preprocessing import StandardScaler\n",
    "scaler = StandardScaler()\n",
    "standardized_data = scaler.fit_transform(X_train)\n",
    "standardized_test = scaler.fit_transform(X_test)"
   ]
  },
  {
   "cell_type": "code",
   "execution_count": 7,
   "metadata": {},
   "outputs": [],
   "source": [
    "def getPlayerData(name, year=9999):    \n",
    "    testPlayer = data_dum[data_dum[\"Player\"] == name]\n",
    "    if year!=9999:\n",
    "        testPlayer = testPlayer[testPlayer[\"Year\"] == year]\n",
    "    testPlayer = testPlayer.drop(columns=[\"Player\", \"Salaries\", \"Wage%\"])\n",
    "    return testPlayer\n",
    "\n",
    "def getPlayerDataWSalary(name, year=9999):    \n",
    "    testPlayer = data_dum[data_dum[\"Player\"] == name]\n",
    "    if year!=9999:\n",
    "        testPlayer = testPlayer[testPlayer[\"Year\"] == year]\n",
    "    return testPlayer\n",
    "#rayAllen_pred = rf.predict(rayAllen)\n",
    "#print(rayAllen_pred)"
   ]
  },
  {
   "cell_type": "markdown",
   "metadata": {},
   "source": [
    "### Predicting using Random Forest ###"
   ]
  },
  {
   "cell_type": "code",
   "execution_count": 8,
   "metadata": {},
   "outputs": [],
   "source": [
    "from sklearn.ensemble import RandomForestClassifier\n",
    "from sklearn.metrics import confusion_matrix\n",
    "\n",
    "# TODO\n",
    "## rf = RandomForestClassifier(n_estimators=100, max_depth=4,random_state=0).fit(X_train, y_train)"
   ]
  },
  {
   "cell_type": "markdown",
   "metadata": {},
   "source": [
    "### Predicting using Linear Regression ###"
   ]
  },
  {
   "cell_type": "code",
   "execution_count": 9,
   "metadata": {},
   "outputs": [
    {
     "name": "stdout",
     "output_type": "stream",
     "text": [
      "[-2.04736340e-02 -1.19629128e+10  2.90281573e-03 -7.73035292e-03\n",
      " -1.36166646e-02  4.57434456e-03 -4.64335132e-04 -1.67876293e-03\n",
      "  6.86675183e-04 -6.84654713e-03 -8.39117169e-03  1.23969316e-02\n",
      "  3.78862023e-04  1.14504993e-03  1.16500258e-03  1.26630068e-03\n",
      " -2.61507928e-03 -1.46040916e-02 -1.57427192e-02  4.23494577e-02\n",
      " -7.61252642e-03  1.04368925e-02  8.02278519e-05 -6.12613559e-03\n",
      "  8.10545683e-03 -6.21677462e+10  6.42948219e+10 -6.32464886e-04\n",
      "  1.79023176e+10 -2.17230646e+10 -4.41074371e-05  5.51179070e+10\n",
      " -5.16784512e+10  1.38372183e-03 -5.14507294e-04  5.80902057e+08\n",
      "  2.02808976e-02 -2.13786960e-04 -3.05415841e+09 -7.16570644e+09\n",
      "  9.87785946e+09 -8.53543729e-03 -6.25228882e-03  1.45828724e-03\n",
      "  1.36032701e-02 -3.55005264e-03 -2.63615017e+09 -4.84924316e-02\n",
      "  4.10476860e+10  4.15881783e+10  4.05661538e+10  3.90730488e+10\n",
      "  4.17358768e+10 -7.61896359e+09  3.26961304e+10 -1.62071358e+10\n",
      " -2.66946406e+10 -1.22770520e+10  7.90183396e+09 -5.52467260e+10\n",
      " -1.74338364e+10  1.19149582e+10 -4.16789570e+10 -9.16509883e+09\n",
      " -5.01977765e+10  5.60014968e+10  1.24991904e+09  7.02582156e+09\n",
      " -2.00049572e+10  2.92527740e+10  6.03728465e+09 -2.71917438e+10\n",
      " -5.33668487e+10 -1.66530664e+10 -1.87273271e+10  2.39720760e+09\n",
      " -4.25703063e+10  2.97177582e+10  1.73972383e+09 -3.46839341e+10\n",
      "  2.73051452e+10 -4.46560917e+10 -3.20479275e+10 -7.55629509e+09\n",
      " -2.81276882e+10 -3.34485270e+09  4.49619594e+09 -3.40689800e+10\n",
      "  3.77074822e+10  5.66311728e+10 -5.97224954e+08  6.38745972e+10\n",
      "  9.35090828e+08  3.81008220e+07  1.66821849e+09 -4.24260734e+09\n",
      " -1.13096263e+09 -2.00481237e+09 -1.68192822e+09  3.82634475e+09\n",
      " -6.16257061e+09 -6.56421691e+10  2.14225984e+10  4.42054138e+08\n",
      "  1.95444066e+09  4.35382117e+09  3.03510769e+08 -9.60985625e+08\n",
      " -2.11732154e+10  1.90259588e+09  3.31927587e+09 -4.15170008e+08\n",
      " -2.72224940e+09  2.16205181e+09  1.57528995e+08 -4.11501772e+09\n",
      " -9.00451410e+09  7.07936085e+09 -4.43620238e+09 -2.08573978e+09\n",
      " -7.41800286e+09 -2.30374857e+09 -1.19196082e+10  3.36094647e+09\n",
      "  5.59733514e+09  2.90039580e+09 -4.17577564e+08  7.30458962e+09\n",
      "  3.12333940e+09  2.71545382e+08  7.55314230e+09  4.08805531e+09\n",
      " -4.06998203e+09 -5.86581761e+09 -9.16182381e+09  5.43770871e+09\n",
      "  7.15801571e+09  2.90286109e+09  7.85235310e+09  3.39920257e+09\n",
      " -2.15542471e+09 -6.44293642e+08 -2.17157988e+09 -1.32704608e+09\n",
      " -7.77241224e+09  7.95316042e+09  5.88871320e+09  3.66571558e+09\n",
      " -6.88833073e+09  6.97425223e+08  3.64938254e+09  1.05456761e+10\n",
      " -1.59474316e+09  8.65146094e+09  4.67343843e+09 -6.94034083e+09\n",
      "  9.21123298e+09  3.61967111e+09  8.14299290e+09  7.35854124e+09\n",
      "  6.70980394e+09 -6.80967588e+09 -1.32416751e+10 -1.03044337e+10\n",
      " -7.34331070e+09 -5.94447247e+09 -1.05295607e+09  3.49990871e+09\n",
      " -2.53767928e+09  1.10250014e+09 -1.06751015e+09 -2.18578084e+09\n",
      "  5.35480527e+09 -1.51893750e+09  1.20991417e+09  7.06524824e+09\n",
      "  5.23769548e+09  2.07852491e+09 -7.42621413e+09 -1.28271580e+10\n",
      " -2.22094342e+09  5.73123979e+08  9.15108248e+09 -7.67853536e+08\n",
      " -2.56493968e+09  8.55817947e+09 -6.27236949e+09  6.86264297e+09\n",
      " -5.81026935e+08  3.74861901e+09  6.13744602e+09  8.97432456e+09\n",
      " -1.10118331e+10  3.89171069e+09  1.64516492e+09 -1.98488610e+09\n",
      "  2.99465528e+09  6.78398811e+09  1.17322346e+09 -1.87760817e+09\n",
      "  1.07078883e+09 -2.20735116e+09 -1.67851818e+09  4.82248420e+09\n",
      "  9.14382400e+09 -2.16355867e+09 -8.40277187e+09  5.33168333e+09\n",
      "  1.14545102e+09  1.07607566e+10  1.32114957e+10 -1.46026244e+09\n",
      "  8.36413506e+09  6.70392170e+09 -7.95688069e+08  1.07427629e+10\n",
      " -3.25351705e+08  9.92658346e+09 -7.17950506e+09 -1.53401470e+09\n",
      "  8.93972926e+09  1.34157897e+09  7.35851766e+08 -8.84720439e+09\n",
      "  1.89576119e+08  8.06008946e+09 -4.86983932e+08 -6.31110199e+09\n",
      "  1.04932062e+10  7.17726239e+09  4.52019908e+08 -8.24430818e+09\n",
      "  3.53856848e+09 -4.46604516e+08 -1.87937116e+09  7.56837649e+09\n",
      " -1.98163734e+09  5.06984676e+09 -1.30758683e+10  7.16613077e+09\n",
      " -1.26613511e+10 -7.52304988e+09  1.08857027e+10 -5.38434301e+10\n",
      "  3.34242927e+09  1.95439848e+09  8.76677704e+09 -2.57440236e+09\n",
      " -6.74478757e+09  6.72996270e+09  3.95103376e+09  6.73924670e+09\n",
      "  3.27962153e+09 -6.79614383e+08  8.51259106e+08  6.78182794e+09\n",
      " -1.50952607e+10  6.63924360e+09  9.76821884e+09  8.42184943e+09\n",
      "  8.08621392e+09 -6.73490266e+09  7.93121401e+09  1.65162135e+09\n",
      "  4.97979391e+09  7.98780090e+08  1.20676429e+10 -7.24862404e+09\n",
      " -8.23094984e+09  4.78519948e+08  6.83375042e+09  7.20364584e+09\n",
      "  5.13710362e+09 -2.64359454e+09 -1.36017112e+09 -8.29662041e+09\n",
      "  1.18768971e+10  5.91621614e+09 -1.74567277e+09  1.24217144e+10\n",
      " -1.01416776e+09  1.01547620e+10 -1.82512968e+09  3.60163150e+09\n",
      "  7.34240025e+09  6.47934810e+08 -7.73984874e+09  1.06373653e+10\n",
      "  8.02054531e+09  8.35435443e+09  7.34229084e+07  7.25375707e+09\n",
      " -2.45129264e+09  9.97315626e+09 -1.35240894e+09  4.35832523e+09\n",
      " -9.39640485e+09 -1.83135719e+09 -8.26767217e+09  9.63996096e+09\n",
      "  7.57693090e+09 -1.44864104e+10  3.80993438e+09 -8.14980446e+09\n",
      "  1.71695728e+09 -6.34653142e+09  1.00842162e+10 -6.10246714e+09\n",
      "  4.94067868e+09 -8.82314371e+09 -5.66366289e+08  1.77366393e+09\n",
      " -1.58057497e+10  1.39266754e+09  7.65830493e+08  1.09505103e+09\n",
      " -1.04016961e+10  6.54479679e+09 -8.22888487e+09  4.19660870e+09\n",
      " -7.68070077e+09  5.39500519e+09 -2.64578299e+08  1.90546216e+09\n",
      " -5.02372080e+08  5.00006959e+09 -3.40968750e+09  8.79030985e+08\n",
      "  7.57753818e+08 -7.23760385e+09  6.70533326e+09 -9.15928357e+09\n",
      "  3.57381345e+09 -3.85004490e+08  1.75752513e+09  8.86682101e+09\n",
      "  5.82910394e+09  1.92198779e+09  4.65062310e+09  6.08202301e+09\n",
      "  2.73649323e+09 -5.59018447e+09 -5.86650257e+09  6.57074511e+09\n",
      " -1.72964518e+09 -9.51869170e+09  8.79265908e+09 -8.53258497e+09\n",
      "  3.87104314e+08  4.37701323e+09 -4.60797275e+09  1.33304539e+09\n",
      "  4.55982022e+09  1.40034060e+10  4.60663942e+09  1.19806994e+10\n",
      " -5.77481418e+09  5.75428890e+09 -8.44902347e+08 -7.89830693e+09\n",
      " -5.94515743e+09 -2.99898554e+09 -2.45785211e+09  9.11455104e+09\n",
      "  8.56024680e+09  3.47022542e+09 -2.80797645e+08 -7.17822578e+09\n",
      "  3.79247684e+09 -5.90155984e+09  1.17370588e+09  1.69950200e+09\n",
      "  3.69020327e+09 -1.11779889e+10  1.78705980e+09  2.33241337e+09\n",
      " -2.98726850e+09  7.23105511e+09  2.49784177e+10  2.87466146e+09\n",
      "  1.45110034e+09  9.59389634e+09  6.73591135e+09 -2.08510767e+09\n",
      " -8.95646356e+08  1.51465115e+09 -8.66092130e+09 -7.20624125e+08\n",
      " -6.24724674e+09  4.36032512e+09  5.51488418e+09  6.65693819e+09\n",
      "  7.78725455e+09  7.23805383e+09  6.84315375e+09  1.23309115e+10\n",
      " -6.88922199e+09 -1.85281080e+09 -1.31302517e+09 -1.78461506e+09\n",
      " -1.20863605e+09 -2.05305875e+09 -6.68097413e+09  7.13627771e+09\n",
      "  1.56139718e+09  1.11465332e+10  1.11098839e+10 -2.22662837e+09\n",
      " -7.95300521e+09 -2.61947044e+09  6.34964650e+09  6.69894327e+09\n",
      " -7.29199013e+08  1.05558223e+10  1.36333064e+09 -9.97895845e+08\n",
      "  1.01151049e+10 -1.46825384e+10 -1.41380541e+09 -1.09097803e+08\n",
      " -4.78390178e+09  1.10430967e+10 -3.64415268e+08 -2.75351546e+09\n",
      "  1.24938015e+10 -8.14194137e+09 -2.36666472e+09  1.25893039e+10\n",
      "  8.10167126e+09  6.29372667e+09  1.10017882e+10  1.69313787e+09\n",
      " -7.70639496e+09  1.14012351e+10  1.10923703e+10 -1.48110092e+10\n",
      "  9.94739301e+09 -3.82538213e+09  2.73194157e+09  1.94852586e+08\n",
      "  1.88159958e+09  7.31467736e+09 -1.65207560e+09  5.16099346e+09\n",
      "  8.52637373e+09  1.61545885e+09  6.26672809e+09  1.73452479e+09\n",
      "  1.04452610e+10 -5.43337173e+08  1.00270142e+10  1.84782586e+09\n",
      "  5.40141051e+09  1.23677458e+10  8.97453599e+09 -7.78203191e+08\n",
      "  1.27389771e+10  8.19496794e+09  4.54430286e+08 -4.37746710e+09\n",
      "  6.83205929e+09 -7.97102445e+09  1.20159681e+10 -4.83462853e+08\n",
      "  6.31205898e+09  7.95917658e+09  3.71382199e+09  6.23340413e+09\n",
      " -2.07837646e+09 -6.39777072e+09 -7.46744010e+09  7.73075257e+09\n",
      " -3.64377637e+09 -1.66335482e+09  1.69625692e+09 -1.50747943e+10\n",
      "  2.82452881e+08 -7.09861939e+09  1.05840091e+10  3.60325977e+09\n",
      "  8.84977549e+09  1.78922220e+10  5.46685520e+09  6.43044840e+09\n",
      "  1.24585487e+10  8.10416506e+09  1.78394331e+09  2.16623611e+09\n",
      "  1.43923433e+10  1.48784288e+09  7.36785955e+09 -8.37164852e+09\n",
      " -2.09425607e+09  2.51834665e+09  4.38910199e+09 -1.06019666e+09\n",
      " -2.68520822e+07 -1.72364511e+08 -1.12401773e+09  8.58302107e+08\n",
      " -1.73217600e+09 -3.15948595e+09  9.63621203e+09 -1.37769838e+10\n",
      "  6.05243774e+09 -1.49491416e+09 -1.81391275e+09 -1.85704599e+09\n",
      "  1.32659795e+10  1.17337576e+09  6.43785076e+09 -7.90489152e+09\n",
      "  2.50653612e+10 -9.49586172e+09  4.48487452e+09 -7.78218258e+08\n",
      " -4.38726683e+08  1.14073636e+10  1.32155351e+10 -7.05112075e+09\n",
      "  1.79455828e+09 -6.49574141e+09  6.77076747e+09  5.04443379e+09\n",
      " -3.24388063e+09 -8.40506559e+08 -7.99939524e+09 -7.47619334e+09\n",
      " -1.28886408e+09 -6.15379228e+09  1.68481971e+10 -1.48358320e+09\n",
      " -9.47153690e+08  1.60976054e+10  1.14523760e+10 -2.65199381e+09\n",
      "  2.07173239e+09  2.53486206e+09  5.08160966e+07 -1.69973628e+09\n",
      "  1.35895106e+10  6.68226331e+09 -1.53108038e+09  9.28843803e+09\n",
      "  9.56130610e+09 -2.50707316e+09  1.95305162e+09 -2.29109184e+09\n",
      "  3.67835703e+09 -2.25584614e+08 -7.40818793e+09  4.46901734e+09\n",
      "  5.23515539e+09 -2.12766891e+07 -1.00628840e+10 -7.10037672e+09\n",
      "  9.52005330e+09  5.64136148e+09  1.65946116e+09 -1.00405522e+10\n",
      "  7.14361888e+09 -2.74646002e+09 -1.49754795e+09  4.72353665e+09\n",
      "  4.99594529e+09 -1.21639305e+10 -8.34459288e+09  2.03890929e+09\n",
      " -7.62028038e+09 -1.14999304e+09 -1.14619066e+10  4.69665980e+09\n",
      "  1.08263727e+10  6.17684806e+09 -3.75745679e+08  1.00936126e+09\n",
      " -6.68585954e+09  4.75517294e+09  6.59835680e+09 -1.75574465e+09\n",
      "  4.97583750e+09  4.40621967e+09 -1.31765883e+09 -6.50015911e+09\n",
      "  9.21854195e+09  5.58575179e+09  1.19619875e+08 -2.31357186e+09\n",
      " -7.63653067e+09 -2.52705641e+09 -1.16833743e+08  1.30486663e+10\n",
      "  1.85744009e+09 -5.70850790e+09  6.49617316e+09  9.31660592e+09\n",
      " -3.05418793e+09  4.82381771e+09 -1.43589786e+09  9.66041840e+09\n",
      " -2.57120921e+08 -1.53040159e+09  2.34071291e+09 -7.86773831e+09\n",
      "  5.00319233e+09  5.93512932e+09 -8.92890630e+09 -2.55414179e+09\n",
      " -1.33174108e+09  6.68126024e+09  7.71064121e+09 -1.79617733e+08\n",
      "  1.21029116e+10 -7.80445894e+09 -6.01757769e+09 -8.25240208e+09\n",
      " -1.29111405e+09  7.15111033e+09  9.56591468e+09  7.24330953e+09\n",
      "  4.48360571e+09  2.05521617e+08 -1.18483805e+09  7.28732711e+09\n",
      "  1.75620277e+09 -6.57418447e+09 -3.41427039e+09  7.56742207e+09\n",
      "  1.07576458e+10 -2.18475295e+09 -6.07167518e+09  3.67240397e+09\n",
      "  5.72945209e+09 -5.99379695e+08  5.39220779e+09  1.12644239e+10\n",
      " -1.44413688e+09  5.05019717e+08 -6.82675234e+09  9.09599151e+09\n",
      "  2.62688041e+10 -7.90252291e+09  2.44397294e+09  4.21186426e+09\n",
      " -2.68436612e+09  1.90017525e+10 -6.67058152e+09  4.73381139e+09\n",
      "  5.98383206e+09  1.21898551e+10 -7.82469128e+09 -1.18622726e+09\n",
      " -1.14714016e+09  6.34428164e+09  1.15464290e+10  5.99702116e+09\n",
      "  2.43170115e+09 -6.20893481e+08  2.63596070e+10 -2.56373689e+09\n",
      "  2.29117527e+10  8.14931216e+09  7.48972164e+09 -7.35414920e+09\n",
      "  1.32424615e+07 -7.89912991e+09 -1.13618233e+09 -8.16444234e+09\n",
      " -1.35824608e+10  5.04938671e+08  7.64919152e+09  1.93690496e+10\n",
      " -7.14131526e+09 -8.39284277e+09 -6.76426227e+09 -8.60479376e+09\n",
      " -8.86309667e+08  1.38470578e+10 -6.54123937e+07  7.38539108e+09\n",
      "  4.67123566e+09  1.76790494e+10  7.48345506e+09  1.17892277e+10\n",
      " -1.47415591e+09  3.13578902e+09  1.34205461e+10 -4.88624473e+08\n",
      "  4.09905211e+09 -6.98587347e+09  5.11995571e+09  7.16531229e+09\n",
      " -1.29597579e+10  8.65079647e+09  8.18492853e+08  8.85514364e+09\n",
      "  7.19930047e+09  8.00568713e+09  8.38620190e+09  1.00992321e+10\n",
      "  8.53902496e+09  7.12950382e+09  8.43729842e+09  9.53599751e+09\n",
      "  9.45233347e+09  1.12604591e+10]\n"
     ]
    }
   ],
   "source": [
    "from sklearn.linear_model import LinearRegression\n",
    "#\"Linear regression does no t respect the bounds of 0. It's linear, always and everywhere.\n",
    "#It may not be appropriate for values that need to be close to 0 but are strictly positive.\"\n",
    "#https://stats.stackexchange.com/questions/145383/getting-negative-predicted-values-after-linear-regression\n",
    "\n",
    "lr = LinearRegression()\n",
    "lr.fit(standardized_data, y_train)\n",
    "print(lr.coef_)"
   ]
  },
  {
   "cell_type": "code",
   "execution_count": 10,
   "metadata": {},
   "outputs": [
    {
     "name": "stdout",
     "output_type": "stream",
     "text": [
      "[-7.60408681e+12]\n"
     ]
    }
   ],
   "source": [
    "print(lr.predict(getPlayerData(\"Kobe Bryant\", 2005)))\n"
   ]
  },
  {
   "cell_type": "markdown",
   "metadata": {},
   "source": [
    "###  Predicting using RidgeRegression  ###"
   ]
  },
  {
   "cell_type": "code",
   "execution_count": 12,
   "metadata": {},
   "outputs": [
    {
     "name": "stdout",
     "output_type": "stream",
     "text": [
      "svd\n",
      "cholesky\n",
      "lsqr\n",
      "sparse_cg\n"
     ]
    }
   ],
   "source": [
    "solvers = ['svd', 'cholesky', 'lsqr', 'sparse_cg']\n",
    "#best_model = clf\n",
    "abs_error = 100\n",
    "for solver in solvers: \n",
    "    from sklearn.linear_model import Ridge\n",
    "    from sklearn.metrics import mean_absolute_error\n",
    "    clf = Ridge(alpha=1.0, solver=solver)\n",
    "    clf.fit(X, y)\n",
    "    print(solver)\n",
    "    error = mean_absolute_error(y_test, clf.predict(standardized_test))\n",
    "    if(error < abs_error):\n",
    "        abs_error = error\n",
    "        best_model = clf\n",
    "\n"
   ]
  },
  {
   "cell_type": "code",
   "execution_count": 13,
   "metadata": {},
   "outputs": [
    {
     "data": {
      "text/plain": [
       "0.3359711022294065"
      ]
     },
     "execution_count": 13,
     "metadata": {},
     "output_type": "execute_result"
    }
   ],
   "source": [
    "from sklearn.linear_model import Ridge\n",
    "from sklearn.metrics import mean_absolute_error\n",
    "clf = Ridge(alpha=1.0)\n",
    "clf.fit(X, y)\n",
    "clf.predict(getPlayerData(\"Kobe Bryant\", 2005))\n",
    "\n",
    "mean_absolute_error(y_test, clf.predict(standardized_test))"
   ]
  },
  {
   "cell_type": "markdown",
   "metadata": {},
   "source": [
    "### Predicting Key Players Salaries ###\n",
    "#### Predicting new contract salary by year ####\n",
    "Chosen players:\n",
    "* Anthony Davis\n",
    "* Damian Lillard\n",
    "* Giannis Antetokounmpo"
   ]
  },
  {
   "cell_type": "code",
   "execution_count": 14,
   "metadata": {},
   "outputs": [
    {
     "name": "stdout",
     "output_type": "stream",
     "text": [
      "Player: Anthony Davis; Current Wage%: 0.22; Predicted next season Wage%: [0.20163349]\n",
      "Player: Damian Lillard; Current Wage%: 0.22; Predicted next season Wage%: [0.19218417]\n",
      "Player: Giannis Antetokounmpo; Current Wage%: 0.17; Predicted next season Wage%: [0.22330545]\n"
     ]
    }
   ],
   "source": [
    "players = [\"Anthony Davis\", \"Damian Lillard\", \"Giannis Antetokounmpo\"]\n",
    "choosenModel = best_model\n",
    "for player in players:\n",
    "    salaryNow = getPlayerDataWSalary(player, 2019)[\"Wage%\"].iloc[0]\n",
    "    predictedSalary = choosenModel.predict(getPlayerData(player, 2019))\n",
    "    print(\"Player: \" + str(player)+\"; \"+ \"Current Wage%: \"+ str(salaryNow) +\"; \"+\"Predicted next season Wage%: \"+ str(predictedSalary))\n",
    "    \n",
    "\n"
   ]
  },
  {
   "cell_type": "code",
   "execution_count": 32,
   "metadata": {},
   "outputs": [
    {
     "name": "stdout",
     "output_type": "stream",
     "text": [
      "training score: 0.6305092013763102\n",
      "test score:  0.5793043415120045\n",
      "number of features used:  3\n",
      "Lasso error:  0.026115197704178243\n",
      "training score for alpha=0.01: 0.6726995200759209\n",
      "test score for alpha =0.01:  0.622728354662219\n",
      "number of features used: for alpha =0.01: 13\n",
      "Lasso001 error:  0.024931069897492164\n",
      "training score for alpha=0.0001: -54424.56883446728\n",
      "test score for alpha =0.0001:  -49843.12192908815\n",
      "number of features used: for alpha =0.0001: 546\n",
      "Lasso00001 error:  13.853363690893415\n"
     ]
    }
   ],
   "source": [
    "from sklearn.linear_model import Lasso\n",
    "standardized_data\n",
    "lasso = Lasso()\n",
    "lasso.fit(X_train,y_train)\n",
    "train_score=lasso.score(X_train,y_train)\n",
    "test_score=lasso.score(X_test,y_test)\n",
    "coeff_used = np.sum(lasso.coef_!=0)\n",
    "print (\"training score:\", train_score )\n",
    "print (\"test score: \", test_score)\n",
    "print (\"number of features used: \", coeff_used)\n",
    "\n",
    "error = mean_absolute_error(y_test, lasso.predict(X_test))\n",
    "print(\"Lasso error: \", error)\n",
    "\n",
    "lasso001 = Lasso(alpha=0.01, max_iter=10e5)\n",
    "lasso001.fit(X_train,y_train)\n",
    "train_score001=lasso001.score(X_train,y_train)\n",
    "test_score001=lasso001.score(X_test,y_test)\n",
    "coeff_used001 = np.sum(lasso001.coef_!=0)\n",
    "print (\"training score for alpha=0.01:\", train_score001 )\n",
    "print (\"test score for alpha =0.01: \", test_score001)\n",
    "print (\"number of features used: for alpha =0.01:\", coeff_used001)\n",
    "error = mean_absolute_error(y_test, lasso001.predict(X_test))\n",
    "print(\"Lasso001 error: \", error)\n",
    "\n",
    "\n",
    "lasso00001 = Lasso(alpha=0.0001, max_iter=10e5)\n",
    "lasso00001.fit(standardized_data,y_train)\n",
    "train_score00001=lasso00001.score(X_train,y_train)\n",
    "test_score00001=lasso00001.score(X_test,y_test)\n",
    "coeff_used00001 = np.sum(lasso00001.coef_!=0)\n",
    "print (\"training score for alpha=0.0001:\", train_score00001)\n",
    "print (\"test score for alpha =0.0001: \", test_score00001)\n",
    "print (\"number of features used: for alpha =0.0001:\", coeff_used00001)\n",
    "error = mean_absolute_error(y_test, lasso00001.predict(X_test))\n",
    "print(\"Lasso00001 error: \", error)\n",
    "\n"
   ]
  },
  {
   "cell_type": "code",
   "execution_count": 31,
   "metadata": {},
   "outputs": [
    {
     "name": "stdout",
     "output_type": "stream",
     "text": [
      "Player: Anthony Davis; Current Wage%: 0.22; Predicted next season Wage%: [0.19461864]\n",
      "Player: Damian Lillard; Current Wage%: 0.22; Predicted next season Wage%: [0.18619167]\n",
      "Player: Giannis Antetokounmpo; Current Wage%: 0.17; Predicted next season Wage%: [0.21303797]\n"
     ]
    }
   ],
   "source": [
    "players = [\"Anthony Davis\", \"Damian Lillard\", \"Giannis Antetokounmpo\"]\n",
    "for player in players:\n",
    "    salaryNow = getPlayerDataWSalary(player, 2019)[\"Wage%\"].iloc[0]\n",
    "    predictedSalary = lasso001.predict(getPlayerData(player, 2019))\n",
    "    print(\"Player: \" + str(player)+\"; \"+ \"Current Wage%: \"+ str(salaryNow) +\"; \"+\"Predicted next season Wage%: \"+ str(predictedSalary))"
   ]
  }
 ],
 "metadata": {
  "kernelspec": {
   "display_name": "Python 3",
   "language": "python",
   "name": "python3"
  },
  "language_info": {
   "codemirror_mode": {
    "name": "ipython",
    "version": 3
   },
   "file_extension": ".py",
   "mimetype": "text/x-python",
   "name": "python",
   "nbconvert_exporter": "python",
   "pygments_lexer": "ipython3",
   "version": "3.7.3"
  }
 },
 "nbformat": 4,
 "nbformat_minor": 2
}
